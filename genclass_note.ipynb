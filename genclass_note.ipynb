{
 "cells": [
  {
   "cell_type": "code",
   "execution_count": 1,
   "id": "f7a241ad",
   "metadata": {},
   "outputs": [],
   "source": [
    "\n",
    "import pandas as pd\n",
    "artists_data = pd.read_csv('/Users/roshanrayudu/Desktop/NLP_sem4/project/data/d2/artists-data.csv')\n",
    "lyrics_data = pd.read_csv('/Users/roshanrayudu/Desktop/NLP_sem4/project/data/d2/lyrics-data.csv')\n",
    "# Merge the data frames on the 'Link' and 'ALink' columns\n",
    "data = pd.merge(artists_data, lyrics_data, left_on='Link', right_on='ALink', how='inner')"
   ]
  },
  {
   "cell_type": "code",
   "execution_count": 2,
   "id": "7573c41d",
   "metadata": {
    "scrolled": true
   },
   "outputs": [
    {
     "name": "stdout",
     "output_type": "stream",
     "text": [
      "Number of English songs: 191376\n",
      "Text Cleaning is done\n"
     ]
    }
   ],
   "source": [
    "\n",
    "from nltk.corpus import stopwords\n",
    "from nltk.tokenize import word_tokenize\n",
    "from nltk.stem import WordNetLemmatizer\n",
    "from wordcloud import WordCloud\n",
    "from collections import Counter\n",
    "import matplotlib.pyplot as plt\n",
    "from wordcloud import WordCloud\n",
    "\n",
    "import pandas as pd\n",
    "import matplotlib.pyplot as plt\n",
    "from langdetect import detect\n",
    "import nltk\n",
    "import string\n",
    "\n",
    "\n",
    "def is_english(text):\n",
    "    try:\n",
    "        lang = detect(text)\n",
    "        return lang == 'en'\n",
    "    except:\n",
    "        return False\n",
    "    \n",
    "def clean_text(text):\n",
    "    # Clean text data in lyrics column\n",
    "    lemmatizer = WordNetLemmatizer()\n",
    "    text = text.lower()\n",
    "    text = text.translate(str.maketrans('', '', string.punctuation))\n",
    "    tokens = word_tokenize(text)\n",
    "    stop_words = set(stopwords.words('english'))\n",
    "    tokens = [word for word in tokens if word not in stop_words]\n",
    "    tokens = [lemmatizer.lemmatize(word) for word in tokens]\n",
    "    cleaned_text = ' '.join(tokens)\n",
    "    return cleaned_text\n",
    "\n",
    "\n",
    "relevant_columns = ['Artist','Genres', 'Lyric', 'SName', 'language']\n",
    "\n",
    "    # Create a new DataFrame with only relevant columns\n",
    "data = data[relevant_columns]\n",
    "\n",
    "    # Filter DataFrame for English songs\n",
    "data = data[data['language'] == 'en']\n",
    "\n",
    "    # Remove rows with missing values in 'genre' and 'lyrics' columns\n",
    "data.dropna(subset=['Genres', 'Lyric'], inplace=True)\n",
    "\n",
    "    # Remove duplicates\n",
    "data.drop_duplicates(inplace=True)\n",
    "\n",
    "\n",
    "print(\"Number of English songs:\", len(data))\n",
    "    \n",
    "    # Apply text cleaning with lemmatization to the 'lyrics' column\n",
    "data['cleaned_lyrics'] = data['Lyric'].apply(clean_text)\n",
    "    \n",
    "print(\"Text Cleaning is done\")\n",
    "    "
   ]
  },
  {
   "cell_type": "code",
   "execution_count": 3,
   "id": "dba9d6ef",
   "metadata": {
    "scrolled": true
   },
   "outputs": [
    {
     "data": {
      "text/html": [
       "<div>\n",
       "<style scoped>\n",
       "    .dataframe tbody tr th:only-of-type {\n",
       "        vertical-align: middle;\n",
       "    }\n",
       "\n",
       "    .dataframe tbody tr th {\n",
       "        vertical-align: top;\n",
       "    }\n",
       "\n",
       "    .dataframe thead th {\n",
       "        text-align: right;\n",
       "    }\n",
       "</style>\n",
       "<table border=\"1\" class=\"dataframe\">\n",
       "  <thead>\n",
       "    <tr style=\"text-align: right;\">\n",
       "      <th></th>\n",
       "      <th>Artist</th>\n",
       "      <th>Genres</th>\n",
       "      <th>Lyric</th>\n",
       "      <th>SName</th>\n",
       "      <th>language</th>\n",
       "      <th>cleaned_lyrics</th>\n",
       "    </tr>\n",
       "  </thead>\n",
       "  <tbody>\n",
       "    <tr>\n",
       "      <th>69</th>\n",
       "      <td>Ivete Sangalo</td>\n",
       "      <td>Pop; Axé; Romântico</td>\n",
       "      <td>I feel so unsure\\nAs I take your hand and lead...</td>\n",
       "      <td>Careless Whisper</td>\n",
       "      <td>en</td>\n",
       "      <td>feel unsure take hand lead dance floor music d...</td>\n",
       "    </tr>\n",
       "    <tr>\n",
       "      <th>86</th>\n",
       "      <td>Ivete Sangalo</td>\n",
       "      <td>Pop; Axé; Romântico</td>\n",
       "      <td>Don't let them fool, ya\\nOr even try to school...</td>\n",
       "      <td>Could You Be Loved / Citação Musical do Rap: S...</td>\n",
       "      <td>en</td>\n",
       "      <td>dont let fool ya even try school ya oh weve go...</td>\n",
       "    </tr>\n",
       "    <tr>\n",
       "      <th>88</th>\n",
       "      <td>Ivete Sangalo</td>\n",
       "      <td>Pop; Axé; Romântico</td>\n",
       "      <td>Baby, let's cruise, away from here\\nDon't be c...</td>\n",
       "      <td>Cruisin' (Part. Saulo)</td>\n",
       "      <td>en</td>\n",
       "      <td>baby let cruise away dont confused way clear w...</td>\n",
       "    </tr>\n",
       "    <tr>\n",
       "      <th>111</th>\n",
       "      <td>Ivete Sangalo</td>\n",
       "      <td>Pop; Axé; Romântico</td>\n",
       "      <td>Know it sounds funny\\nBut, I just can't stand ...</td>\n",
       "      <td>Easy</td>\n",
       "      <td>en</td>\n",
       "      <td>know sound funny cant stand pain girl im leavi...</td>\n",
       "    </tr>\n",
       "    <tr>\n",
       "      <th>140</th>\n",
       "      <td>Ivete Sangalo</td>\n",
       "      <td>Pop; Axé; Romântico</td>\n",
       "      <td>You've got that look again\\nThe one I hoped I ...</td>\n",
       "      <td>For Your Babies (The Voice cover)</td>\n",
       "      <td>en</td>\n",
       "      <td>youve got look one hoped lad face beaming smil...</td>\n",
       "    </tr>\n",
       "  </tbody>\n",
       "</table>\n",
       "</div>"
      ],
      "text/plain": [
       "            Artist               Genres  \\\n",
       "69   Ivete Sangalo  Pop; Axé; Romântico   \n",
       "86   Ivete Sangalo  Pop; Axé; Romântico   \n",
       "88   Ivete Sangalo  Pop; Axé; Romântico   \n",
       "111  Ivete Sangalo  Pop; Axé; Romântico   \n",
       "140  Ivete Sangalo  Pop; Axé; Romântico   \n",
       "\n",
       "                                                 Lyric  \\\n",
       "69   I feel so unsure\\nAs I take your hand and lead...   \n",
       "86   Don't let them fool, ya\\nOr even try to school...   \n",
       "88   Baby, let's cruise, away from here\\nDon't be c...   \n",
       "111  Know it sounds funny\\nBut, I just can't stand ...   \n",
       "140  You've got that look again\\nThe one I hoped I ...   \n",
       "\n",
       "                                                 SName language  \\\n",
       "69                                    Careless Whisper       en   \n",
       "86   Could You Be Loved / Citação Musical do Rap: S...       en   \n",
       "88                              Cruisin' (Part. Saulo)       en   \n",
       "111                                               Easy       en   \n",
       "140                  For Your Babies (The Voice cover)       en   \n",
       "\n",
       "                                        cleaned_lyrics  \n",
       "69   feel unsure take hand lead dance floor music d...  \n",
       "86   dont let fool ya even try school ya oh weve go...  \n",
       "88   baby let cruise away dont confused way clear w...  \n",
       "111  know sound funny cant stand pain girl im leavi...  \n",
       "140  youve got look one hoped lad face beaming smil...  "
      ]
     },
     "execution_count": 3,
     "metadata": {},
     "output_type": "execute_result"
    }
   ],
   "source": [
    "data.head(5)"
   ]
  },
  {
   "cell_type": "code",
   "execution_count": 4,
   "id": "12a31fdc",
   "metadata": {
    "scrolled": false
   },
   "outputs": [
    {
     "name": "stdout",
     "output_type": "stream",
     "text": [
      "Number of English songs: 39756\n",
      "Unique values in 'target' column:\n",
      "target\n",
      "[Rock]       25177\n",
      "[Pop]        13759\n",
      "[Hip Hop]      820\n",
      "Name: count, dtype: int64\n",
      "['Hip Hop' 'Pop' 'Rock']\n",
      "\n",
      "Number of English songs: 39756\n"
     ]
    },
    {
     "name": "stderr",
     "output_type": "stream",
     "text": [
      "/var/folders/r9/yhb05gs97cbbqbh5qgfjtwrm0000gn/T/ipykernel_24684/3156182501.py:11: SettingWithCopyWarning: \n",
      "A value is trying to be set on a copy of a slice from a DataFrame\n",
      "\n",
      "See the caveats in the documentation: https://pandas.pydata.org/pandas-docs/stable/user_guide/indexing.html#returning-a-view-versus-a-copy\n",
      "  df.dropna(subset=['Genres'], inplace=True)\n",
      "/var/folders/r9/yhb05gs97cbbqbh5qgfjtwrm0000gn/T/ipykernel_24684/3156182501.py:14: SettingWithCopyWarning: \n",
      "A value is trying to be set on a copy of a slice from a DataFrame\n",
      "\n",
      "See the caveats in the documentation: https://pandas.pydata.org/pandas-docs/stable/user_guide/indexing.html#returning-a-view-versus-a-copy\n",
      "  df.rename(columns={'Genres': 'target'}, inplace=True)\n"
     ]
    }
   ],
   "source": [
    "df = data[data['Genres'].str.contains('rock|pop|hip-hop', case=False, na=False)]\n",
    "for index, row in df.iterrows():\n",
    "    genres = row['Genres'].split(';')\n",
    "    new_genres = [genre for genre in genres if genre.lower() in ['rock', 'pop', 'hip hop']]\n",
    "    if new_genres:\n",
    "        df.at[index, 'Genres'] = new_genres  # Retain the first valid genre\n",
    "    else:\n",
    "        df.at[index, 'Genres'] = None\n",
    "\n",
    "# Drop rows with NaN values in the 'Genres' column\n",
    "df.dropna(subset=['Genres'], inplace=True)\n",
    "\n",
    "# Rename the 'Genres' column to 'target'\n",
    "df.rename(columns={'Genres': 'target'}, inplace=True)\n",
    "\n",
    "print(\"Number of English songs:\", len(df))\n",
    "unique_values_counts = df['target'].value_counts()\n",
    "\n",
    "print(\"Unique values in 'target' column:\")\n",
    "print(unique_values_counts)\n",
    "\n",
    "from sklearn.model_selection import train_test_split\n",
    "from sklearn.preprocessing import MultiLabelBinarizer\n",
    "\n",
    "# Use MultiLabelBinarizer for encoding\n",
    "mlb = MultiLabelBinarizer()\n",
    "encoded_targets = mlb.fit_transform(df['target'])\n",
    "\n",
    "# Create a DataFrame from the encoded targets\n",
    "encoded_df = pd.DataFrame(encoded_targets, columns=mlb.classes_)\n",
    "\n",
    "# Concatenate the original DataFrame with the encoded DataFrame\n",
    "df = pd.concat([df.reset_index(drop=True), encoded_df], axis=1)\n",
    "print(mlb.classes_)\n",
    "print(\"\\nNumber of English songs:\", len(df))\n"
   ]
  },
  {
   "cell_type": "code",
   "execution_count": 5,
   "id": "b67d15e9",
   "metadata": {},
   "outputs": [
    {
     "data": {
      "text/html": [
       "<div>\n",
       "<style scoped>\n",
       "    .dataframe tbody tr th:only-of-type {\n",
       "        vertical-align: middle;\n",
       "    }\n",
       "\n",
       "    .dataframe tbody tr th {\n",
       "        vertical-align: top;\n",
       "    }\n",
       "\n",
       "    .dataframe thead th {\n",
       "        text-align: right;\n",
       "    }\n",
       "</style>\n",
       "<table border=\"1\" class=\"dataframe\">\n",
       "  <thead>\n",
       "    <tr style=\"text-align: right;\">\n",
       "      <th></th>\n",
       "      <th>Artist</th>\n",
       "      <th>target</th>\n",
       "      <th>Lyric</th>\n",
       "      <th>SName</th>\n",
       "      <th>language</th>\n",
       "      <th>cleaned_lyrics</th>\n",
       "      <th>Hip Hop</th>\n",
       "      <th>Pop</th>\n",
       "      <th>Rock</th>\n",
       "    </tr>\n",
       "  </thead>\n",
       "  <tbody>\n",
       "    <tr>\n",
       "      <th>0</th>\n",
       "      <td>Ivete Sangalo</td>\n",
       "      <td>[Pop]</td>\n",
       "      <td>I feel so unsure\\nAs I take your hand and lead...</td>\n",
       "      <td>Careless Whisper</td>\n",
       "      <td>en</td>\n",
       "      <td>feel unsure take hand lead dance floor music d...</td>\n",
       "      <td>0</td>\n",
       "      <td>1</td>\n",
       "      <td>0</td>\n",
       "    </tr>\n",
       "    <tr>\n",
       "      <th>1</th>\n",
       "      <td>Ivete Sangalo</td>\n",
       "      <td>[Pop]</td>\n",
       "      <td>Don't let them fool, ya\\nOr even try to school...</td>\n",
       "      <td>Could You Be Loved / Citação Musical do Rap: S...</td>\n",
       "      <td>en</td>\n",
       "      <td>dont let fool ya even try school ya oh weve go...</td>\n",
       "      <td>0</td>\n",
       "      <td>1</td>\n",
       "      <td>0</td>\n",
       "    </tr>\n",
       "    <tr>\n",
       "      <th>2</th>\n",
       "      <td>Ivete Sangalo</td>\n",
       "      <td>[Pop]</td>\n",
       "      <td>Baby, let's cruise, away from here\\nDon't be c...</td>\n",
       "      <td>Cruisin' (Part. Saulo)</td>\n",
       "      <td>en</td>\n",
       "      <td>baby let cruise away dont confused way clear w...</td>\n",
       "      <td>0</td>\n",
       "      <td>1</td>\n",
       "      <td>0</td>\n",
       "    </tr>\n",
       "    <tr>\n",
       "      <th>3</th>\n",
       "      <td>Ivete Sangalo</td>\n",
       "      <td>[Pop]</td>\n",
       "      <td>Know it sounds funny\\nBut, I just can't stand ...</td>\n",
       "      <td>Easy</td>\n",
       "      <td>en</td>\n",
       "      <td>know sound funny cant stand pain girl im leavi...</td>\n",
       "      <td>0</td>\n",
       "      <td>1</td>\n",
       "      <td>0</td>\n",
       "    </tr>\n",
       "    <tr>\n",
       "      <th>4</th>\n",
       "      <td>Ivete Sangalo</td>\n",
       "      <td>[Pop]</td>\n",
       "      <td>You've got that look again\\nThe one I hoped I ...</td>\n",
       "      <td>For Your Babies (The Voice cover)</td>\n",
       "      <td>en</td>\n",
       "      <td>youve got look one hoped lad face beaming smil...</td>\n",
       "      <td>0</td>\n",
       "      <td>1</td>\n",
       "      <td>0</td>\n",
       "    </tr>\n",
       "  </tbody>\n",
       "</table>\n",
       "</div>"
      ],
      "text/plain": [
       "          Artist target                                              Lyric  \\\n",
       "0  Ivete Sangalo  [Pop]  I feel so unsure\\nAs I take your hand and lead...   \n",
       "1  Ivete Sangalo  [Pop]  Don't let them fool, ya\\nOr even try to school...   \n",
       "2  Ivete Sangalo  [Pop]  Baby, let's cruise, away from here\\nDon't be c...   \n",
       "3  Ivete Sangalo  [Pop]  Know it sounds funny\\nBut, I just can't stand ...   \n",
       "4  Ivete Sangalo  [Pop]  You've got that look again\\nThe one I hoped I ...   \n",
       "\n",
       "                                               SName language  \\\n",
       "0                                   Careless Whisper       en   \n",
       "1  Could You Be Loved / Citação Musical do Rap: S...       en   \n",
       "2                             Cruisin' (Part. Saulo)       en   \n",
       "3                                               Easy       en   \n",
       "4                  For Your Babies (The Voice cover)       en   \n",
       "\n",
       "                                      cleaned_lyrics  Hip Hop  Pop  Rock  \n",
       "0  feel unsure take hand lead dance floor music d...        0    1     0  \n",
       "1  dont let fool ya even try school ya oh weve go...        0    1     0  \n",
       "2  baby let cruise away dont confused way clear w...        0    1     0  \n",
       "3  know sound funny cant stand pain girl im leavi...        0    1     0  \n",
       "4  youve got look one hoped lad face beaming smil...        0    1     0  "
      ]
     },
     "execution_count": 5,
     "metadata": {},
     "output_type": "execute_result"
    }
   ],
   "source": [
    "df.head()"
   ]
  },
  {
   "cell_type": "code",
   "execution_count": 6,
   "id": "b9f1a227",
   "metadata": {},
   "outputs": [],
   "source": [
    "df.to_csv('/Users/roshanrayudu/Desktop/NLP_sem4/project/data/d2/data1.csv', index=False) "
   ]
  },
  {
   "cell_type": "code",
   "execution_count": 7,
   "id": "840e82db",
   "metadata": {},
   "outputs": [],
   "source": [
    "import numpy as np\n",
    "\n",
    "def load_glove_embeddings(embedding_path):\n",
    "    \"\"\"\n",
    "    Load GloVe embeddings from a file.\n",
    "\n",
    "    Args:\n",
    "    - embedding_path (str): Path to the GloVe embedding file.\n",
    "\n",
    "    Returns:\n",
    "    - word_embeddings (dict): Dictionary mapping words to their GloVe vectors.\n",
    "    \"\"\"\n",
    "    word_embeddings = {}\n",
    "    with open(embedding_path, 'r', encoding='utf-8') as f:\n",
    "        for line in f:\n",
    "            values = line.split()\n",
    "            word = values[0]\n",
    "            vector = np.asarray(values[1:], dtype='float32')\n",
    "            word_embeddings[word] = vector\n",
    "    return word_embeddings\n",
    "\n",
    "# Load GloVe embeddings\n",
    "embedding_path = '/Users/roshanrayudu/Desktop/NLP_sem4/emb/glove/vectors.txt'\n",
    "word_embeddings = load_glove_embeddings(embedding_path)\n",
    "\n",
    "# Function to get embedding for each word\n",
    "def get_word_embedding(word):\n",
    "    return word_embeddings.get(word, np.zeros_like(next(iter(word_embeddings.values()))))  # Use the size of any vector from word_embeddings\n",
    "\n",
    "# Function to get average embedding for a lyric\n",
    "def get_lyric_embedding(lyric):\n",
    "    words = lyric.split()  # Tokenize lyric into words\n",
    "    embeddings = [get_word_embedding(word) for word in words]  # Get embeddings for each word\n",
    "    if embeddings:\n",
    "        return np.mean(embeddings, axis=0)  # Return average embedding of all words\n",
    "    else:\n",
    "        return np.zeros_like(next(iter(word_embeddings.values())))  # Return zero vector if lyric is empty\n",
    "\n",
    "# Apply get_lyric_embedding function to each row in the DataFrame\n",
    "df['lyric_embedding'] = df['cleaned_lyrics'].apply(get_lyric_embedding)\n"
   ]
  },
  {
   "cell_type": "code",
   "execution_count": 8,
   "id": "a9a6819b",
   "metadata": {},
   "outputs": [
    {
     "data": {
      "text/html": [
       "<div>\n",
       "<style scoped>\n",
       "    .dataframe tbody tr th:only-of-type {\n",
       "        vertical-align: middle;\n",
       "    }\n",
       "\n",
       "    .dataframe tbody tr th {\n",
       "        vertical-align: top;\n",
       "    }\n",
       "\n",
       "    .dataframe thead th {\n",
       "        text-align: right;\n",
       "    }\n",
       "</style>\n",
       "<table border=\"1\" class=\"dataframe\">\n",
       "  <thead>\n",
       "    <tr style=\"text-align: right;\">\n",
       "      <th></th>\n",
       "      <th>Artist</th>\n",
       "      <th>target</th>\n",
       "      <th>Lyric</th>\n",
       "      <th>SName</th>\n",
       "      <th>language</th>\n",
       "      <th>cleaned_lyrics</th>\n",
       "      <th>Hip Hop</th>\n",
       "      <th>Pop</th>\n",
       "      <th>Rock</th>\n",
       "      <th>lyric_embedding</th>\n",
       "    </tr>\n",
       "  </thead>\n",
       "  <tbody>\n",
       "    <tr>\n",
       "      <th>0</th>\n",
       "      <td>Ivete Sangalo</td>\n",
       "      <td>[Pop]</td>\n",
       "      <td>I feel so unsure\\nAs I take your hand and lead...</td>\n",
       "      <td>Careless Whisper</td>\n",
       "      <td>en</td>\n",
       "      <td>feel unsure take hand lead dance floor music d...</td>\n",
       "      <td>0</td>\n",
       "      <td>1</td>\n",
       "      <td>0</td>\n",
       "      <td>[0.045407925, 0.20010377, 1.1677836, -0.130222...</td>\n",
       "    </tr>\n",
       "    <tr>\n",
       "      <th>1</th>\n",
       "      <td>Ivete Sangalo</td>\n",
       "      <td>[Pop]</td>\n",
       "      <td>Don't let them fool, ya\\nOr even try to school...</td>\n",
       "      <td>Could You Be Loved / Citação Musical do Rap: S...</td>\n",
       "      <td>en</td>\n",
       "      <td>dont let fool ya even try school ya oh weve go...</td>\n",
       "      <td>0</td>\n",
       "      <td>1</td>\n",
       "      <td>0</td>\n",
       "      <td>[-0.1323289, 0.22624084, 0.919709, -0.1148357,...</td>\n",
       "    </tr>\n",
       "    <tr>\n",
       "      <th>2</th>\n",
       "      <td>Ivete Sangalo</td>\n",
       "      <td>[Pop]</td>\n",
       "      <td>Baby, let's cruise, away from here\\nDon't be c...</td>\n",
       "      <td>Cruisin' (Part. Saulo)</td>\n",
       "      <td>en</td>\n",
       "      <td>baby let cruise away dont confused way clear w...</td>\n",
       "      <td>0</td>\n",
       "      <td>1</td>\n",
       "      <td>0</td>\n",
       "      <td>[-0.028755477, 0.3713202, 1.109544, -0.1620172...</td>\n",
       "    </tr>\n",
       "    <tr>\n",
       "      <th>3</th>\n",
       "      <td>Ivete Sangalo</td>\n",
       "      <td>[Pop]</td>\n",
       "      <td>Know it sounds funny\\nBut, I just can't stand ...</td>\n",
       "      <td>Easy</td>\n",
       "      <td>en</td>\n",
       "      <td>know sound funny cant stand pain girl im leavi...</td>\n",
       "      <td>0</td>\n",
       "      <td>1</td>\n",
       "      <td>0</td>\n",
       "      <td>[0.03278552, 0.37988737, 1.0978612, -0.1396328...</td>\n",
       "    </tr>\n",
       "    <tr>\n",
       "      <th>4</th>\n",
       "      <td>Ivete Sangalo</td>\n",
       "      <td>[Pop]</td>\n",
       "      <td>You've got that look again\\nThe one I hoped I ...</td>\n",
       "      <td>For Your Babies (The Voice cover)</td>\n",
       "      <td>en</td>\n",
       "      <td>youve got look one hoped lad face beaming smil...</td>\n",
       "      <td>0</td>\n",
       "      <td>1</td>\n",
       "      <td>0</td>\n",
       "      <td>[-0.0077235615, 0.29734513, 1.1451551, -0.0201...</td>\n",
       "    </tr>\n",
       "  </tbody>\n",
       "</table>\n",
       "</div>"
      ],
      "text/plain": [
       "          Artist target                                              Lyric  \\\n",
       "0  Ivete Sangalo  [Pop]  I feel so unsure\\nAs I take your hand and lead...   \n",
       "1  Ivete Sangalo  [Pop]  Don't let them fool, ya\\nOr even try to school...   \n",
       "2  Ivete Sangalo  [Pop]  Baby, let's cruise, away from here\\nDon't be c...   \n",
       "3  Ivete Sangalo  [Pop]  Know it sounds funny\\nBut, I just can't stand ...   \n",
       "4  Ivete Sangalo  [Pop]  You've got that look again\\nThe one I hoped I ...   \n",
       "\n",
       "                                               SName language  \\\n",
       "0                                   Careless Whisper       en   \n",
       "1  Could You Be Loved / Citação Musical do Rap: S...       en   \n",
       "2                             Cruisin' (Part. Saulo)       en   \n",
       "3                                               Easy       en   \n",
       "4                  For Your Babies (The Voice cover)       en   \n",
       "\n",
       "                                      cleaned_lyrics  Hip Hop  Pop  Rock  \\\n",
       "0  feel unsure take hand lead dance floor music d...        0    1     0   \n",
       "1  dont let fool ya even try school ya oh weve go...        0    1     0   \n",
       "2  baby let cruise away dont confused way clear w...        0    1     0   \n",
       "3  know sound funny cant stand pain girl im leavi...        0    1     0   \n",
       "4  youve got look one hoped lad face beaming smil...        0    1     0   \n",
       "\n",
       "                                     lyric_embedding  \n",
       "0  [0.045407925, 0.20010377, 1.1677836, -0.130222...  \n",
       "1  [-0.1323289, 0.22624084, 0.919709, -0.1148357,...  \n",
       "2  [-0.028755477, 0.3713202, 1.109544, -0.1620172...  \n",
       "3  [0.03278552, 0.37988737, 1.0978612, -0.1396328...  \n",
       "4  [-0.0077235615, 0.29734513, 1.1451551, -0.0201...  "
      ]
     },
     "execution_count": 8,
     "metadata": {},
     "output_type": "execute_result"
    }
   ],
   "source": [
    "df.head()"
   ]
  },
  {
   "cell_type": "code",
   "execution_count": 9,
   "id": "7009c26b",
   "metadata": {},
   "outputs": [],
   "source": [
    "df.to_csv('/Users/roshanrayudu/Desktop/NLP_sem4/project/data/d2/fdata1.csv', index=False) "
   ]
  },
  {
   "cell_type": "code",
   "execution_count": 10,
   "id": "1dac3e7a",
   "metadata": {},
   "outputs": [
    {
     "data": {
      "text/plain": [
       "Index(['Artist', 'target', 'Lyric', 'SName', 'language', 'cleaned_lyrics',\n",
       "       'Hip Hop', 'Pop', 'Rock', 'lyric_embedding'],\n",
       "      dtype='object')"
      ]
     },
     "execution_count": 10,
     "metadata": {},
     "output_type": "execute_result"
    }
   ],
   "source": [
    "df.columns"
   ]
  },
  {
   "cell_type": "code",
   "execution_count": 11,
   "id": "31bde25b",
   "metadata": {},
   "outputs": [
    {
     "name": "stdout",
     "output_type": "stream",
     "text": [
      "Word cloud for genre '['Hip Hop']' saved as 'wordcloud_['Hip Hop'].png'\n",
      "Word cloud for genre '['Pop']' saved as 'wordcloud_['Pop'].png'\n",
      "Word cloud for genre '['Rock']' saved as 'wordcloud_['Rock'].png'\n"
     ]
    }
   ],
   "source": [
    "from wordcloud import WordCloud\n",
    "import matplotlib.pyplot as plt\n",
    "\n",
    "def save_word_clouds(data):\n",
    "    # Convert 'target' column to strings\n",
    "    data['target'] = data['target'].astype(str)\n",
    "    \n",
    "    # Step 1: Group the DataFrame by 'target'\n",
    "    grouped_data = data.groupby('target')\n",
    "\n",
    "    # Step 2: Generate word cloud for each unique value in the 'target' column\n",
    "    for genre, group in grouped_data:\n",
    "        # Step 2a: Concatenate cleaned lyrics for the genre into a single string\n",
    "        text = ' '.join(group['cleaned_lyrics'])\n",
    "\n",
    "        # Step 2b: Generate word cloud\n",
    "        wordcloud = WordCloud(width=800, height=400, background_color='white').generate(text)\n",
    "\n",
    "        # Step 2c: Plot the word cloud\n",
    "        plt.figure(figsize=(10, 5))\n",
    "        plt.imshow(wordcloud, interpolation='bilinear')\n",
    "        plt.title(f'Word Cloud for Genre: {genre}')\n",
    "        plt.axis('off')\n",
    "        \n",
    "        # Step 2d: Save the word cloud as an image\n",
    "        filename = f\"wordcloud_{genre}.png\"\n",
    "        plt.savefig(filename)\n",
    "        print(f\"Word cloud for genre '{genre}' saved as '{filename}'\")\n",
    "        plt.close()\n",
    "\n",
    "# Call the function with your DataFrame\n",
    "save_word_clouds(df)\n",
    "\n"
   ]
  },
  {
   "cell_type": "code",
   "execution_count": 12,
   "id": "ba22606b",
   "metadata": {},
   "outputs": [],
   "source": [
    "# Assuming df is your original DataFrame\n",
    "selected_columns = ['lyric_embedding', 'Hip Hop', 'Pop', 'Rock']\n",
    "preprocessed_data = df[selected_columns].copy()\n"
   ]
  },
  {
   "cell_type": "code",
   "execution_count": 13,
   "id": "4679104c",
   "metadata": {},
   "outputs": [
    {
     "data": {
      "text/plain": [
       "Index(['lyric_embedding', 'Hip Hop', 'Pop', 'Rock'], dtype='object')"
      ]
     },
     "execution_count": 13,
     "metadata": {},
     "output_type": "execute_result"
    }
   ],
   "source": [
    "preprocessed_data.columns"
   ]
  },
  {
   "cell_type": "code",
   "execution_count": 14,
   "id": "9c9657ad",
   "metadata": {},
   "outputs": [
    {
     "name": "stdout",
     "output_type": "stream",
     "text": [
      "Shape of X: (39756, 50)\n",
      "Shape of Y: (39756, 3)\n"
     ]
    }
   ],
   "source": [
    "# Extract 'lyric_embedding' as X and 'Hip Hop', 'Pop', 'Rock' as Y\n",
    "X = preprocessed_data['lyric_embedding'].values.tolist()\n",
    "Y = preprocessed_data[['Hip Hop', 'Pop', 'Rock']].values.tolist()\n",
    "\n",
    "# Rename columns\n",
    "X_column_name = 'lyric_embedding'\n",
    "Y_column_name = 'y'\n",
    "\n",
    "# Convert X and Y to numpy arrays\n",
    "X = np.array(X)\n",
    "Y = np.array(Y)\n",
    "\n",
    "\n",
    "# Print the shape of X and Y\n",
    "print(\"Shape of X:\", X.shape)\n",
    "print(\"Shape of Y:\", Y.shape)\n"
   ]
  },
  {
   "cell_type": "code",
   "execution_count": 15,
   "id": "add0b147",
   "metadata": {},
   "outputs": [
    {
     "name": "stdout",
     "output_type": "stream",
     "text": [
      "[[ 0.04540792  0.20010377  1.1677836  ... -2.1938174  -0.1002815\n",
      "  -0.11835608]\n",
      " [-0.1323289   0.22624084  0.919709   ... -1.6561728  -0.18368644\n",
      "   0.03710866]\n",
      " [-0.02875548  0.3713202   1.109544   ... -2.2281568  -0.30047596\n",
      "  -0.20880234]\n",
      " ...\n",
      " [-0.02538223  0.3139085   1.288367   ... -2.2380817  -0.26018208\n",
      "  -0.1625912 ]\n",
      " [-0.12354131  0.27176818  0.7694409  ... -1.7968111  -0.22758505\n",
      "  -0.49124026]\n",
      " [-0.07235441  0.15191874  1.3015751  ... -1.7371085  -0.09479728\n",
      "  -0.04548743]]\n"
     ]
    }
   ],
   "source": [
    "print(X)"
   ]
  },
  {
   "cell_type": "code",
   "execution_count": 16,
   "id": "655a2f36",
   "metadata": {},
   "outputs": [],
   "source": [
    "# Split the data into training (80%) and test (10%) sets\n",
    "X_train, X_temp, Y_train, Y_temp = train_test_split(X, Y, test_size=0.2, random_state=42)\n",
    "\n",
    "# Split the temporary data into test (50%) and evaluation (50%) sets\n",
    "X_test, X_eval, Y_test, Y_eval = train_test_split(X_temp, Y_temp, test_size=0.5, random_state=42)"
   ]
  },
  {
   "cell_type": "code",
   "execution_count": 17,
   "id": "c206d346",
   "metadata": {},
   "outputs": [
    {
     "name": "stdout",
     "output_type": "stream",
     "text": [
      "[[0 0 1]\n",
      " [0 1 0]\n",
      " [0 0 1]\n",
      " ...\n",
      " [0 0 1]\n",
      " [1 0 0]\n",
      " [1 0 0]]\n"
     ]
    }
   ],
   "source": [
    "print(Y_train)"
   ]
  },
  {
   "cell_type": "code",
   "execution_count": 18,
   "id": "9eaf23f9",
   "metadata": {},
   "outputs": [
    {
     "name": "stdout",
     "output_type": "stream",
     "text": [
      "[2 1 2 ... 2 0 0]\n"
     ]
    }
   ],
   "source": [
    "from sklearn.model_selection import train_test_split\n",
    "from sklearn.linear_model import LogisticRegression\n",
    "from sklearn.metrics import accuracy_score, f1_score\n",
    "\n",
    "Y_train_labels = np.argmax(Y_train, axis=1)\n",
    "Y_val_labels = np.argmax(Y_eval, axis=1)\n",
    "Y_test_labels = np.argmax(Y_test, axis=1)\n",
    "\n",
    "\n",
    "print(Y_train_labels)\n",
    "\n"
   ]
  },
  {
   "cell_type": "code",
   "execution_count": 19,
   "id": "c5e3e6a8",
   "metadata": {},
   "outputs": [
    {
     "name": "stdout",
     "output_type": "stream",
     "text": [
      "Validation Accuracy: 0.710261569416499\n",
      "Validation F1 Score: 0.6919181702685349\n"
     ]
    }
   ],
   "source": [
    "# Initialize the logistic regression model with multinomial strategy\n",
    "model = LogisticRegression(multi_class='multinomial', max_iter=1000)\n",
    "\n",
    "# Train the model on the training data\n",
    "model.fit(X_train, Y_train_labels)\n",
    "\n",
    "# Predict on the validation set\n",
    "Y_val_pred = model.predict(X_eval)\n",
    "\n",
    "# Calculate accuracy and F1 score on the validation set\n",
    "accuracy = accuracy_score(Y_val_labels, Y_val_pred)\n",
    "f1 = f1_score(Y_val_labels, Y_val_pred, average='weighted')\n",
    "\n",
    "print(\"Validation Accuracy:\", accuracy)\n",
    "print(\"Validation F1 Score:\", f1)"
   ]
  },
  {
   "cell_type": "code",
   "execution_count": 20,
   "id": "c9fbf614",
   "metadata": {},
   "outputs": [
    {
     "data": {
      "image/png": "[encoded data removed]",
      "text/plain": [
       "<Figure size 800x600 with 2 Axes>"
      ]
     },
     "metadata": {},
     "output_type": "display_data"
    }
   ],
   "source": [
    "from sklearn.metrics import confusion_matrix, accuracy_score, f1_score\n",
    "import seaborn as sns\n",
    "\n",
    "conf_mat = confusion_matrix(Y_val_labels, Y_val_pred)\n",
    "plt.figure(figsize=(8, 6))\n",
    "sns.heatmap(conf_mat, annot=True, fmt=\"d\", cmap=\"Blues\", xticklabels=['hip hop', 'rock', 'pop'], yticklabels=['hip hop', 'rock', 'pop'])\n",
    "plt.xlabel('Predicted')\n",
    "plt.ylabel('Actual')\n",
    "plt.title('Confusion Matrix')\n",
    "plt.show()"
   ]
  },
  {
   "cell_type": "code",
   "execution_count": 21,
   "id": "5d4800e4",
   "metadata": {},
   "outputs": [
    {
     "data": {
      "text/plain": [
       "Index(['lyric_embedding', 'Hip Hop', 'Pop', 'Rock'], dtype='object')"
      ]
     },
     "execution_count": 21,
     "metadata": {},
     "output_type": "execute_result"
    }
   ],
   "source": [
    "# class imbalance\n",
    "preprocessed_data.columns"
   ]
  },
  {
   "cell_type": "code",
   "execution_count": 22,
   "id": "d9d6bf22",
   "metadata": {},
   "outputs": [],
   "source": [
    "preprocessed_data['genre_number'] = np.argmax(preprocessed_data[['Hip Hop', 'Pop', 'Rock']].values, axis=1)"
   ]
  },
  {
   "cell_type": "code",
   "execution_count": 23,
   "id": "7ca3457b",
   "metadata": {},
   "outputs": [
    {
     "data": {
      "text/html": [
       "<div>\n",
       "<style scoped>\n",
       "    .dataframe tbody tr th:only-of-type {\n",
       "        vertical-align: middle;\n",
       "    }\n",
       "\n",
       "    .dataframe tbody tr th {\n",
       "        vertical-align: top;\n",
       "    }\n",
       "\n",
       "    .dataframe thead th {\n",
       "        text-align: right;\n",
       "    }\n",
       "</style>\n",
       "<table border=\"1\" class=\"dataframe\">\n",
       "  <thead>\n",
       "    <tr style=\"text-align: right;\">\n",
       "      <th></th>\n",
       "      <th>lyric_embedding</th>\n",
       "      <th>Hip Hop</th>\n",
       "      <th>Pop</th>\n",
       "      <th>Rock</th>\n",
       "      <th>genre_number</th>\n",
       "    </tr>\n",
       "  </thead>\n",
       "  <tbody>\n",
       "    <tr>\n",
       "      <th>0</th>\n",
       "      <td>[0.045407925, 0.20010377, 1.1677836, -0.130222...</td>\n",
       "      <td>0</td>\n",
       "      <td>1</td>\n",
       "      <td>0</td>\n",
       "      <td>1</td>\n",
       "    </tr>\n",
       "    <tr>\n",
       "      <th>1</th>\n",
       "      <td>[-0.1323289, 0.22624084, 0.919709, -0.1148357,...</td>\n",
       "      <td>0</td>\n",
       "      <td>1</td>\n",
       "      <td>0</td>\n",
       "      <td>1</td>\n",
       "    </tr>\n",
       "    <tr>\n",
       "      <th>2</th>\n",
       "      <td>[-0.028755477, 0.3713202, 1.109544, -0.1620172...</td>\n",
       "      <td>0</td>\n",
       "      <td>1</td>\n",
       "      <td>0</td>\n",
       "      <td>1</td>\n",
       "    </tr>\n",
       "    <tr>\n",
       "      <th>3</th>\n",
       "      <td>[0.03278552, 0.37988737, 1.0978612, -0.1396328...</td>\n",
       "      <td>0</td>\n",
       "      <td>1</td>\n",
       "      <td>0</td>\n",
       "      <td>1</td>\n",
       "    </tr>\n",
       "    <tr>\n",
       "      <th>4</th>\n",
       "      <td>[-0.0077235615, 0.29734513, 1.1451551, -0.0201...</td>\n",
       "      <td>0</td>\n",
       "      <td>1</td>\n",
       "      <td>0</td>\n",
       "      <td>1</td>\n",
       "    </tr>\n",
       "  </tbody>\n",
       "</table>\n",
       "</div>"
      ],
      "text/plain": [
       "                                     lyric_embedding  Hip Hop  Pop  Rock  \\\n",
       "0  [0.045407925, 0.20010377, 1.1677836, -0.130222...        0    1     0   \n",
       "1  [-0.1323289, 0.22624084, 0.919709, -0.1148357,...        0    1     0   \n",
       "2  [-0.028755477, 0.3713202, 1.109544, -0.1620172...        0    1     0   \n",
       "3  [0.03278552, 0.37988737, 1.0978612, -0.1396328...        0    1     0   \n",
       "4  [-0.0077235615, 0.29734513, 1.1451551, -0.0201...        0    1     0   \n",
       "\n",
       "   genre_number  \n",
       "0             1  \n",
       "1             1  \n",
       "2             1  \n",
       "3             1  \n",
       "4             1  "
      ]
     },
     "execution_count": 23,
     "metadata": {},
     "output_type": "execute_result"
    }
   ],
   "source": [
    "preprocessed_data.head()"
   ]
  },
  {
   "cell_type": "code",
   "execution_count": 24,
   "id": "907feb9b",
   "metadata": {
    "scrolled": false
   },
   "outputs": [
    {
     "name": "stdout",
     "output_type": "stream",
     "text": [
      "genre_number\n",
      "1    25177\n",
      "0    25177\n",
      "2    25177\n",
      "Name: count, dtype: int64\n",
      "                                     lyric_embedding  genre_number\n",
      "0  [0.04540792480111122, 0.2001037746667862, 1.16...             1\n",
      "1  [-0.13232889771461487, 0.2262408435344696, 0.9...             1\n",
      "2  [-0.02875547669827938, 0.3713201880455017, 1.1...             1\n",
      "3  [0.03278551995754242, 0.3798873722553253, 1.09...             1\n",
      "4  [-0.007723561488091946, 0.2973451316356659, 1....             1\n"
     ]
    }
   ],
   "source": [
    "import pandas as pd\n",
    "import numpy as np\n",
    "from sklearn.preprocessing import LabelEncoder\n",
    "from imblearn.over_sampling import SMOTE\n",
    "\n",
    "# Assuming preprocessed_data is your dataframe containing the data\n",
    "\n",
    "# Convert genre labels to numerical representations\n",
    "label_encoder = LabelEncoder()\n",
    "preprocessed_data['genre_number'] = label_encoder.fit_transform(preprocessed_data['genre_number'])\n",
    "\n",
    "# Separate features (X) and target (Y)\n",
    "X = preprocessed_data['lyric_embedding'].values.tolist()\n",
    "Y = preprocessed_data['genre_number'].values.tolist()\n",
    "\n",
    "# Initialize SMOTE\n",
    "smote = SMOTE(random_state=42)\n",
    "\n",
    "# Apply SMOTE to generate synthetic samples\n",
    "X_resampled, Y_resampled = smote.fit_resample(X, Y)\n",
    "\n",
    "# Convert the resampled data back to a dataframe\n",
    "resampled_df = pd.DataFrame()\n",
    "resampled_df['lyric_embedding'] = X_resampled\n",
    "resampled_df['genre_number'] = Y_resampled\n",
    "\n",
    "# Check the new class distribution\n",
    "print(resampled_df['genre_number'].value_counts())\n",
    "print(resampled_df.head())\n",
    "\n",
    "# Now you can use resampled_df for training your model\n"
   ]
  },
  {
   "cell_type": "code",
   "execution_count": 25,
   "id": "c4630621",
   "metadata": {
    "scrolled": true
   },
   "outputs": [
    {
     "data": {
      "text/html": [
       "<div>\n",
       "<style scoped>\n",
       "    .dataframe tbody tr th:only-of-type {\n",
       "        vertical-align: middle;\n",
       "    }\n",
       "\n",
       "    .dataframe tbody tr th {\n",
       "        vertical-align: top;\n",
       "    }\n",
       "\n",
       "    .dataframe thead th {\n",
       "        text-align: right;\n",
       "    }\n",
       "</style>\n",
       "<table border=\"1\" class=\"dataframe\">\n",
       "  <thead>\n",
       "    <tr style=\"text-align: right;\">\n",
       "      <th></th>\n",
       "      <th>lyric_embedding</th>\n",
       "      <th>genre_number</th>\n",
       "      <th>Hip Hop</th>\n",
       "      <th>Pop</th>\n",
       "      <th>Rock</th>\n",
       "    </tr>\n",
       "  </thead>\n",
       "  <tbody>\n",
       "    <tr>\n",
       "      <th>0</th>\n",
       "      <td>[0.04540792480111122, 0.2001037746667862, 1.16...</td>\n",
       "      <td>1</td>\n",
       "      <td>0</td>\n",
       "      <td>1</td>\n",
       "      <td>0</td>\n",
       "    </tr>\n",
       "    <tr>\n",
       "      <th>1</th>\n",
       "      <td>[-0.13232889771461487, 0.2262408435344696, 0.9...</td>\n",
       "      <td>1</td>\n",
       "      <td>0</td>\n",
       "      <td>1</td>\n",
       "      <td>0</td>\n",
       "    </tr>\n",
       "    <tr>\n",
       "      <th>2</th>\n",
       "      <td>[-0.02875547669827938, 0.3713201880455017, 1.1...</td>\n",
       "      <td>1</td>\n",
       "      <td>0</td>\n",
       "      <td>1</td>\n",
       "      <td>0</td>\n",
       "    </tr>\n",
       "    <tr>\n",
       "      <th>3</th>\n",
       "      <td>[0.03278551995754242, 0.3798873722553253, 1.09...</td>\n",
       "      <td>1</td>\n",
       "      <td>0</td>\n",
       "      <td>1</td>\n",
       "      <td>0</td>\n",
       "    </tr>\n",
       "    <tr>\n",
       "      <th>4</th>\n",
       "      <td>[-0.007723561488091946, 0.2973451316356659, 1....</td>\n",
       "      <td>1</td>\n",
       "      <td>0</td>\n",
       "      <td>1</td>\n",
       "      <td>0</td>\n",
       "    </tr>\n",
       "  </tbody>\n",
       "</table>\n",
       "</div>"
      ],
      "text/plain": [
       "                                     lyric_embedding  genre_number  Hip Hop  \\\n",
       "0  [0.04540792480111122, 0.2001037746667862, 1.16...             1        0   \n",
       "1  [-0.13232889771461487, 0.2262408435344696, 0.9...             1        0   \n",
       "2  [-0.02875547669827938, 0.3713201880455017, 1.1...             1        0   \n",
       "3  [0.03278551995754242, 0.3798873722553253, 1.09...             1        0   \n",
       "4  [-0.007723561488091946, 0.2973451316356659, 1....             1        0   \n",
       "\n",
       "   Pop  Rock  \n",
       "0    1     0  \n",
       "1    1     0  \n",
       "2    1     0  \n",
       "3    1     0  \n",
       "4    1     0  "
      ]
     },
     "execution_count": 25,
     "metadata": {},
     "output_type": "execute_result"
    }
   ],
   "source": [
    "resampled_df['Hip Hop'] = (resampled_df['genre_number'] == 0).astype(int)\n",
    "resampled_df['Pop'] = (resampled_df['genre_number'] == 1).astype(int)\n",
    "resampled_df['Rock'] = (resampled_df['genre_number'] == 2).astype(int)\n",
    "resampled_df.head()"
   ]
  },
  {
   "cell_type": "code",
   "execution_count": 26,
   "id": "48d037b6",
   "metadata": {},
   "outputs": [
    {
     "name": "stdout",
     "output_type": "stream",
     "text": [
      "Shape of X: (75531, 50)\n",
      "Shape of Y: (75531,)\n"
     ]
    }
   ],
   "source": [
    "# Extract 'lyric_embedding' as X and 'Hip Hop', 'Pop', 'Rock' as Y\n",
    "X = resampled_df['lyric_embedding'].values.tolist()\n",
    "Y = resampled_df['genre_number'].values.tolist()\n",
    "\n",
    "\n",
    "# Convert X and Y to numpy arrays\n",
    "X = np.array(X)\n",
    "Y = np.array(Y)\n",
    "\n",
    "\n",
    "# Print the shape of X and Y\n",
    "print(\"Shape of X:\", X.shape)\n",
    "print(\"Shape of Y:\", Y.shape)\n",
    "\n",
    "# Split the data into training (80%) and test (10%) sets\n",
    "X_train, X_temp, Y_train, Y_temp = train_test_split(X, Y, test_size=0.2, random_state=42)\n",
    "\n",
    "# Split the temporary data into test (50%) and evaluation (50%) sets\n",
    "X_test, X_eval, Y_test, Y_eval = train_test_split(X_temp, Y_temp, test_size=0.5, random_state=42)\n",
    "\n"
   ]
  },
  {
   "cell_type": "code",
   "execution_count": 27,
   "id": "2506c446",
   "metadata": {},
   "outputs": [
    {
     "name": "stdout",
     "output_type": "stream",
     "text": [
      "Validation Accuracy: 0.6327773365104581\n",
      "Validation F1 Score: 0.6325427042929852\n"
     ]
    }
   ],
   "source": [
    "model = LogisticRegression(multi_class='multinomial', max_iter=1000)\n",
    "\n",
    "# Train the model on the training data\n",
    "model.fit(X_train, Y_train)\n",
    "\n",
    "# Predict on the validation set\n",
    "Y_val_pred = model.predict(X_eval)\n",
    "\n",
    "# Calculate accuracy and F1 score on the validation set\n",
    "accuracy = accuracy_score(Y_eval, Y_val_pred)\n",
    "f1 = f1_score(Y_eval, Y_val_pred, average='weighted')\n",
    "\n",
    "print(\"Validation Accuracy:\", accuracy)\n",
    "print(\"Validation F1 Score:\", f1)"
   ]
  },
  {
   "cell_type": "code",
   "execution_count": 28,
   "id": "4fe6c76e",
   "metadata": {},
   "outputs": [
    {
     "data": {
      "image/png": "[encoded data removed]",
      "text/plain": [
       "<Figure size 800x600 with 2 Axes>"
      ]
     },
     "metadata": {},
     "output_type": "display_data"
    }
   ],
   "source": [
    "\n",
    "\n",
    "# Compute confusion matrix\n",
    "cm = confusion_matrix(Y_eval, Y_val_pred)\n",
    "\n",
    "# Plot confusion matrix\n",
    "plt.figure(figsize=(8, 6))\n",
    "sns.heatmap(cm, annot=True, fmt='d', cmap='Blues', xticklabels=['Hip Hop', 'Pop', 'Rock'], yticklabels=['Hip Hop', 'Pop', 'Rock'])\n",
    "plt.xlabel('Predicted')\n",
    "plt.ylabel('True')\n",
    "plt.title('Confusion Matrix')\n",
    "plt.show()\n"
   ]
  },
  {
   "cell_type": "code",
   "execution_count": 29,
   "id": "8d46a94c",
   "metadata": {},
   "outputs": [
    {
     "data": {
      "image/png": "[encoded data removed]",
      "text/plain": [
       "<Figure size 640x480 with 1 Axes>"
      ]
     },
     "metadata": {},
     "output_type": "display_data"
    },
    {
     "name": "stdout",
     "output_type": "stream",
     "text": [
      "F1 Scores:\n",
      "Random Forest: 0.85\n",
      "XGBoost: 0.82\n",
      "Logistic Regression: 0.63\n",
      "The best classifier is: Random Forest\n"
     ]
    }
   ],
   "source": [
    "from sklearn.metrics import f1_score\n",
    "from sklearn.ensemble import RandomForestClassifier\n",
    "from xgboost import XGBClassifier\n",
    "from sklearn.linear_model import LogisticRegression\n",
    "from sklearn.metrics import roc_auc_score, roc_curve\n",
    "import matplotlib.pyplot as plt\n",
    "\n",
    "# Initialize classifiers\n",
    "classifiers = {\n",
    "    'Random Forest': RandomForestClassifier(),\n",
    "    'XGBoost': XGBClassifier(),\n",
    "    'Logistic Regression': LogisticRegression(max_iter=1000)\n",
    "}\n",
    "\n",
    "# Train and evaluate each classifier\n",
    "f1_scores = {}\n",
    "for name, clf in classifiers.items():\n",
    "    clf.fit(X_train, Y_train)\n",
    "    Y_pred = clf.predict(X_eval)\n",
    "    f1 = f1_score(Y_eval, Y_pred, average='weighted')\n",
    "    f1_scores[name] = f1\n",
    "\n",
    "# Plot F1 scores\n",
    "plt.bar(f1_scores.keys(), f1_scores.values())\n",
    "plt.xlabel('Classifier')\n",
    "plt.ylabel('F1 Score (Weighted)')\n",
    "plt.title('F1 Scores for Different Classifiers')\n",
    "plt.xticks(rotation=45)\n",
    "plt.show()\n",
    "\n",
    "# Print F1 scores\n",
    "print(\"F1 Scores:\")\n",
    "for name, f1 in f1_scores.items():\n",
    "    print(f\"{name}: {f1:.2f}\")\n",
    "\n",
    "# Identify the best classifier\n",
    "best_classifier = max(f1_scores, key=f1_scores.get)\n",
    "print(f\"The best classifier is: {best_classifier}\")\n"
   ]
  },
  {
   "cell_type": "code",
   "execution_count": 30,
   "id": "b11fda16",
   "metadata": {
    "scrolled": true
   },
   "outputs": [
    {
     "data": {
      "image/png": "[encoded data removed]",
      "text/plain": [
       "<Figure size 800x600 with 2 Axes>"
      ]
     },
     "metadata": {},
     "output_type": "display_data"
    }
   ],
   "source": [
    "from sklearn.metrics import confusion_matrix\n",
    "import seaborn as sns\n",
    "import joblib\n",
    "# Train the best classifier\n",
    "best_clf = classifiers[best_classifier]\n",
    "best_clf.fit(X_train, Y_train)\n",
    "\n",
    "joblib.dump(best_clf, '/Users/roshanrayudu/Desktop/NLP_sem4/MusicClassficationNLP/best_model.pkl')\n",
    "\n",
    "# Make predictions on the evaluation dataset\n",
    "Y_pred = best_clf.predict(X_eval)\n",
    "\n",
    "# Generate confusion matrix\n",
    "cm = confusion_matrix(Y_eval, Y_pred)\n",
    "\n",
    "# Plot confusion matrix\n",
    "plt.figure(figsize=(8, 6))\n",
    "sns.heatmap(cm, annot=True, cmap='Blues', fmt='g', xticklabels=best_clf.classes_, yticklabels=best_clf.classes_)\n",
    "plt.xlabel('Predicted')\n",
    "plt.ylabel('True')\n",
    "plt.title('Confusion Matrix for Best Classifier')\n",
    "plt.show()\n"
   ]
  },
  {
   "cell_type": "code",
   "execution_count": 31,
   "id": "89140834",
   "metadata": {},
   "outputs": [
    {
     "data": {
      "text/plain": [
       "Index(['lyric_embedding', 'genre_number', 'Hip Hop', 'Pop', 'Rock'], dtype='object')"
      ]
     },
     "execution_count": 31,
     "metadata": {},
     "output_type": "execute_result"
    }
   ],
   "source": [
    "resampled_df.columns"
   ]
  },
  {
   "cell_type": "code",
   "execution_count": 32,
   "id": "5b8bc6ab",
   "metadata": {},
   "outputs": [
    {
     "data": {
      "image/png": "[encoded data removed]",
      "text/plain": [
       "<Figure size 800x600 with 2 Axes>"
      ]
     },
     "metadata": {},
     "output_type": "display_data"
    }
   ],
   "source": [
    "import joblib\n",
    "\n",
    "# Load the saved model from file\n",
    "loaded_model = joblib.load('/Users/roshanrayudu/Desktop/NLP_sem4/MusicClassficationNLP/best_model.pkl')\n",
    "\n",
    "# Make predictions on new data\n",
    "Y_pred1 = loaded_model.predict(X_eval)\n",
    "\n",
    "# Generate confusion matrix\n",
    "cm1 = confusion_matrix(Y_eval, Y_pred1)\n",
    "\n",
    "# Plot confusion matrix\n",
    "plt.figure(figsize=(8, 6))\n",
    "sns.heatmap(cm1, annot=True, cmap='Blues', fmt='g', xticklabels=best_clf.classes_, yticklabels=best_clf.classes_)\n",
    "plt.xlabel('Predicted')\n",
    "plt.ylabel('True')\n",
    "plt.title('Confusion Matrix for Best Classifier')\n",
    "plt.show()\n"
   ]
  },
  {
   "cell_type": "code",
   "execution_count": null,
   "id": "8ef14bf8",
   "metadata": {},
   "outputs": [],
   "source": []
  },
  {
   "cell_type": "code",
   "execution_count": 33,
   "id": "6034668a",
   "metadata": {},
   "outputs": [
    {
     "name": "stdout",
     "output_type": "stream",
     "text": [
      "Number of unique entries in the text file: 61565\n"
     ]
    }
   ],
   "source": [
    "# Initialize an empty set to store unique entries\n",
    "unique_entries = set()\n",
    "\n",
    "# Open the text file\n",
    "with open('/Users/roshanrayudu/Desktop/NLP_sem4/gloveEmbeddings/vocab.txt', 'r') as file:\n",
    "    # Read all lines from the file\n",
    "    lines = file.readlines()\n",
    "    # Iterate through each line\n",
    "    for line in lines:\n",
    "        # Split the line by space and take the first part\n",
    "        entry = line.strip().split()[0]\n",
    "        # Add the entry to the set\n",
    "        unique_entries.add(entry)\n",
    "\n",
    "# Count the number of unique entries\n",
    "num_unique_entries = len(unique_entries)\n",
    "\n",
    "# Print the number of unique entries\n",
    "print(\"Number of unique entries in the text file:\", num_unique_entries)\n",
    "\n",
    "vocab_size = num_unique_entries\n"
   ]
  },
  {
   "cell_type": "code",
   "execution_count": 5,
   "id": "75ee7319",
   "metadata": {},
   "outputs": [
    {
     "name": "stdout",
     "output_type": "stream",
     "text": [
      "Python 3.11.5\r\n"
     ]
    }
   ],
   "source": [
    "!python --version"
   ]
  },
  {
   "cell_type": "code",
   "execution_count": 8,
   "id": "200bf717",
   "metadata": {
    "scrolled": true
   },
   "outputs": [
    {
     "ename": "ModuleNotFoundError",
     "evalue": "No module named 'tf'",
     "output_type": "error",
     "traceback": [
      "\u001b[0;31m---------------------------------------------------------------------------\u001b[0m",
      "\u001b[0;31mModuleNotFoundError\u001b[0m                       Traceback (most recent call last)",
      "Cell \u001b[0;32mIn[8], line 2\u001b[0m\n\u001b[1;32m      1\u001b[0m \u001b[38;5;28;01mimport\u001b[39;00m \u001b[38;5;21;01mtensorflow\u001b[39;00m \u001b[38;5;28;01mas\u001b[39;00m \u001b[38;5;21;01mtf\u001b[39;00m\n\u001b[0;32m----> 2\u001b[0m \u001b[38;5;28;01mfrom\u001b[39;00m \u001b[38;5;21;01mtf\u001b[39;00m\u001b[38;5;21;01m.\u001b[39;00m\u001b[38;5;21;01mkeras\u001b[39;00m\u001b[38;5;21;01m.\u001b[39;00m\u001b[38;5;21;01mmodels\u001b[39;00m \u001b[38;5;28;01mimport\u001b[39;00m Sequential\n\u001b[1;32m      3\u001b[0m \u001b[38;5;66;03m#from tensorflow.keras import Sequential\u001b[39;00m\n\u001b[1;32m      4\u001b[0m \u001b[38;5;66;03m#from tensorflow.keras.layers import Embedding, LSTM, Dense\u001b[39;00m\n\u001b[1;32m      5\u001b[0m \u001b[38;5;66;03m#from tensorflow.keras.optimizers import Adam\u001b[39;00m\n\u001b[1;32m      6\u001b[0m \u001b[38;5;66;03m#from sklearn.model_selection import train_test_split\u001b[39;00m\n\u001b[1;32m      7\u001b[0m model \u001b[38;5;241m=\u001b[39m Sequential([\n\u001b[1;32m      8\u001b[0m         tf\u001b[38;5;241m.\u001b[39mkeras\u001b[38;5;241m.\u001b[39mEmbedding(input_dim\u001b[38;5;241m=\u001b[39minput_dim, output_dim\u001b[38;5;241m=\u001b[39moutput_dim, input_length\u001b[38;5;241m=\u001b[39minput_length),\n\u001b[1;32m      9\u001b[0m         LSTM(units\u001b[38;5;241m=\u001b[39m\u001b[38;5;241m128\u001b[39m),  \n\u001b[1;32m     10\u001b[0m         Dense(\u001b[38;5;241m3\u001b[39m, activation\u001b[38;5;241m=\u001b[39m\u001b[38;5;124m'\u001b[39m\u001b[38;5;124msoftmax\u001b[39m\u001b[38;5;124m'\u001b[39m)  \n\u001b[1;32m     11\u001b[0m     ])\n",
      "\u001b[0;31mModuleNotFoundError\u001b[0m: No module named 'tf'"
     ]
    }
   ],
   "source": [
    "import tensorflow as tf\n",
    "from tf.keras.models import Sequential\n",
    "#from tensorflow.keras import Sequential\n",
    "#from tensorflow.keras.layers import Embedding, LSTM, Dense\n",
    "#from tensorflow.keras.optimizers import Adam\n",
    "#from sklearn.model_selection import train_test_split\n",
    "model = Sequential([\n",
    "        tf.keras.Embedding(input_dim=input_dim, output_dim=output_dim, input_length=input_length),\n",
    "        LSTM(units=128),  \n",
    "        Dense(3, activation='softmax')  \n",
    "    ])\n",
    "# Step 1: Define the LSTM model architecture\n",
    "def create_lstm_model(input_dim, output_dim, input_length):\n",
    "    model = tf.keras.Sequential([\n",
    "        tf.keras.Embedding(input_dim=input_dim, output_dim=output_dim, input_length=input_length),\n",
    "        LSTM(units=128),  \n",
    "        Dense(3, activation='softmax')  \n",
    "    ])\n",
    "    return model\n",
    "\n",
    "# Step 2: Create and compile the LSTM model\n",
    "input_dim = 61565  # Size of the vocabulary\n",
    "output_dim = 50  # Size of the embedding vectors\n",
    "input_length = 50  # Length of each input sequence\n",
    "adam_optimizer = Adam(learning_rate=0.001)\n",
    "lstm_model = create_lstm_model(input_dim, output_dim, input_length)\n",
    "lstm_model.compile(loss='categorical_crossentropy', optimizer=adam_optimizer, metrics=['accuracy'])\n"
   ]
  },
  {
   "cell_type": "code",
   "execution_count": 35,
   "id": "2b0bd64d",
   "metadata": {
    "scrolled": true
   },
   "outputs": [
    {
     "name": "stdout",
     "output_type": "stream",
     "text": [
      "(60424, 50)\n",
      "(60424, 3)\n"
     ]
    }
   ],
   "source": [
    "\n",
    "# Step 3: Prepare the input features and target variable\n",
    "X = np.array(resampled_df['lyric_embedding'].tolist())  # Assuming 'lyric_embedding' contains the embeddings\n",
    "Y = np.array(resampled_df[['Hip Hop', 'Pop', 'Rock']])  # One-hot encoded genre labels\n",
    "\n",
    "# Step 4: Split the data into training and testing sets\n",
    "X_train, X_test, Y_train, Y_test = train_test_split(X, Y, test_size=0.2, random_state=42)\n",
    "\n",
    "print(X_train.shape)\n",
    "print(Y_train.shape)\n"
   ]
  },
  {
   "cell_type": "code",
   "execution_count": 40,
   "id": "56e2e51a",
   "metadata": {},
   "outputs": [
    {
     "ename": "NameError",
     "evalue": "name 'lstm_model' is not defined",
     "output_type": "error",
     "traceback": [
      "\u001b[0;31m---------------------------------------------------------------------------\u001b[0m",
      "\u001b[0;31mNameError\u001b[0m                                 Traceback (most recent call last)",
      "Cell \u001b[0;32mIn[40], line 2\u001b[0m\n\u001b[1;32m      1\u001b[0m \u001b[38;5;66;03m# Step 5: Train the LSTM model\u001b[39;00m\n\u001b[0;32m----> 2\u001b[0m history \u001b[38;5;241m=\u001b[39m lstm_model\u001b[38;5;241m.\u001b[39mfit(X_train, Y_train, epochs\u001b[38;5;241m=\u001b[39m\u001b[38;5;241m10\u001b[39m, batch_size\u001b[38;5;241m=\u001b[39m\u001b[38;5;241m128\u001b[39m, validation_split\u001b[38;5;241m=\u001b[39m\u001b[38;5;241m0.2\u001b[39m)\n\u001b[1;32m      4\u001b[0m \u001b[38;5;66;03m# Step 6: Evaluate the model on the testing data\u001b[39;00m\n\u001b[1;32m      5\u001b[0m loss, accuracy \u001b[38;5;241m=\u001b[39m lstm_model\u001b[38;5;241m.\u001b[39mevaluate(X_test, Y_test)\n",
      "\u001b[0;31mNameError\u001b[0m: name 'lstm_model' is not defined"
     ]
    }
   ],
   "source": [
    "\n",
    "# Step 5: Train the LSTM model\n",
    "history = lstm_model.fit(X_train, Y_train, epochs=10, batch_size=128, validation_split=0.2)\n",
    "\n",
    "# Step 6: Evaluate the model on the testing data\n",
    "loss, accuracy = lstm_model.evaluate(X_test, Y_test)\n",
    "print(\"Test Loss:\", loss)\n",
    "print(\"Test Accuracy:\", accuracy)\n",
    "\n",
    "plt.plot(history.history['loss'], label='Training Loss')\n",
    "plt.plot(history.history['val_loss'], label='Validation Loss')\n",
    "plt.title('Training Loss')\n",
    "plt.xlabel('Epoch')\n",
    "plt.ylabel('Loss')\n",
    "plt.legend()\n",
    "plt.show()\n"
   ]
  },
  {
   "cell_type": "code",
   "execution_count": 39,
   "id": "a50fab83",
   "metadata": {
    "scrolled": true
   },
   "outputs": [
    {
     "ename": "ModuleNotFoundError",
     "evalue": "No module named 'tensorflow.keras'",
     "output_type": "error",
     "traceback": [
      "\u001b[0;31m---------------------------------------------------------------------------\u001b[0m",
      "\u001b[0;31mModuleNotFoundError\u001b[0m                       Traceback (most recent call last)",
      "Cell \u001b[0;32mIn[39], line 4\u001b[0m\n\u001b[1;32m      2\u001b[0m \u001b[38;5;28;01mfrom\u001b[39;00m \u001b[38;5;21;01msklearn\u001b[39;00m\u001b[38;5;21;01m.\u001b[39;00m\u001b[38;5;21;01mmodel_selection\u001b[39;00m \u001b[38;5;28;01mimport\u001b[39;00m train_test_split\n\u001b[1;32m      3\u001b[0m \u001b[38;5;28;01mfrom\u001b[39;00m \u001b[38;5;21;01msklearn\u001b[39;00m\u001b[38;5;21;01m.\u001b[39;00m\u001b[38;5;21;01mmodel_selection\u001b[39;00m \u001b[38;5;28;01mimport\u001b[39;00m GridSearchCV\n\u001b[0;32m----> 4\u001b[0m \u001b[38;5;28;01mfrom\u001b[39;00m \u001b[38;5;21;01mtensorflow\u001b[39;00m\u001b[38;5;21;01m.\u001b[39;00m\u001b[38;5;21;01mkeras\u001b[39;00m\u001b[38;5;21;01m.\u001b[39;00m\u001b[38;5;21;01mmodels\u001b[39;00m \u001b[38;5;28;01mimport\u001b[39;00m Sequential\n\u001b[1;32m      5\u001b[0m \u001b[38;5;28;01mfrom\u001b[39;00m \u001b[38;5;21;01mtensorflow\u001b[39;00m\u001b[38;5;21;01m.\u001b[39;00m\u001b[38;5;21;01mkeras\u001b[39;00m\u001b[38;5;21;01m.\u001b[39;00m\u001b[38;5;21;01mlayers\u001b[39;00m \u001b[38;5;28;01mimport\u001b[39;00m Embedding, LSTM, Dense\n\u001b[1;32m      6\u001b[0m \u001b[38;5;28;01mfrom\u001b[39;00m \u001b[38;5;21;01mtensorflow\u001b[39;00m\u001b[38;5;21;01m.\u001b[39;00m\u001b[38;5;21;01mkeras\u001b[39;00m\u001b[38;5;21;01m.\u001b[39;00m\u001b[38;5;21;01mwrappers\u001b[39;00m\u001b[38;5;21;01m.\u001b[39;00m\u001b[38;5;21;01mscikit_learn\u001b[39;00m \u001b[38;5;28;01mimport\u001b[39;00m KerasClassifier\n",
      "\u001b[0;31mModuleNotFoundError\u001b[0m: No module named 'tensorflow.keras'"
     ]
    }
   ],
   "source": [
    "import tensorflow as tf\n",
    "from sklearn.model_selection import train_test_split\n",
    "from sklearn.model_selection import GridSearchCV\n",
    "from tensorflow.keras.models import Sequential\n",
    "from tensorflow.keras.layers import Embedding, LSTM, Dense\n",
    "from tensorflow.keras.wrappers.scikit_learn import KerasClassifier\n",
    "\n",
    "# Step 1: Define the LSTM model architecture\n",
    "def create_lstm_model(input_dim, output_dim, input_length, learning_rate=0.001, units=128, dropout_rate=0.0):\n",
    "    model = Sequential([\n",
    "        Embedding(input_dim=input_dim, output_dim=output_dim, input_length=input_length),\n",
    "        LSTM(units=units, dropout=dropout_rate),\n",
    "        Dense(3, activation='softmax')\n",
    "    ])\n",
    "    optimizer = tf.keras.optimizers.Adam(learning_rate=learning_rate)\n",
    "    model.compile(loss='categorical_crossentropy', optimizer=optimizer, metrics=['accuracy'])\n",
    "    return model\n",
    "\n",
    "# Define the parameter grid\n",
    "param_grid = {\n",
    "    'learning_rate': [0.001, 0.01, 0.1],\n",
    "    'units': [64, 128, 256],\n",
    "    'dropout_rate': [0.0, 0.1, 0.2],\n",
    "    'batch_size': [32, 64, 128],\n",
    "    'epochs': [50, 100, 150]  \n",
    "}\n",
    "\n",
    "# Step 2: Create a KerasClassifier wrapper for the TensorFlow model\n",
    "keras_model = KerasClassifier(build_fn=create_lstm_model, verbose=0)\n",
    "\n",
    "# Step 3: Perform grid search\n",
    "grid = GridSearchCV(estimator=keras_model, param_grid=param_grid, cv=3)\n",
    "grid_result = grid.fit(X_train, Y_train)\n",
    "\n",
    "# Step 4: Print the best parameters and score\n",
    "print(\"Best Parameters:\", grid_result.best_params_)\n",
    "print(\"Best Score:\", grid_result.best_score_)\n",
    "\n",
    "# Step 5: Evaluate the best model on the test set\n",
    "best_model = grid_result.best_estimator_\n",
    "loss, accuracy = best_model.evaluate(X_test, Y_test)\n",
    "print(\"Test Loss:\", loss)\n",
    "print(\"Test Accuracy:\", accuracy)\n"
   ]
  },
  {
   "cell_type": "code",
   "execution_count": null,
   "id": "47ffa90b",
   "metadata": {},
   "outputs": [],
   "source": [
    "from transformers import pipeline, RobertaTokenizer\n",
    "from transformers import RobertaTokenizer, RobertaModel"
   ]
  },
  {
   "cell_type": "code",
   "execution_count": null,
   "id": "8154f132",
   "metadata": {},
   "outputs": [],
   "source": [
    "def getTopSentiments(text):\n",
    "    \"\"\"\n",
    "    Get top sentiments from the text using RoBERTa-based sentiment classifier.\n",
    "    \"\"\"\n",
    "    tokenizer = RobertaTokenizer.from_pretrained('distilroberta-base')\n",
    "    classifier = pipeline(\"text-classification\", model=\"j-hartmann/emotion-english-distilroberta-base\", top_k=3)\n",
    "    \n",
    "    while len(tokenizer.tokenize(text)) > 510:\n",
    "        text = text[:len(text) - 10]\n",
    "    sentiments_list = classifier(text)[0]\n",
    "    x = sentiments_list[0]['label']\n",
    "    if sentiments_list[1]['score'] > 0.2:\n",
    "        x = x + \",\" + sentiments_list[1]['label']\n",
    "    if sentiments_list[2]['score'] > 0.2:\n",
    "        x = x + \",\" + sentiments_list[2]['label']\n",
    "    return x"
   ]
  },
  {
   "cell_type": "code",
   "execution_count": null,
   "id": "0648a07a",
   "metadata": {},
   "outputs": [],
   "source": [
    "getTopSentiments(\"world peace\")"
   ]
  },
  {
   "cell_type": "code",
   "execution_count": null,
   "id": "16d89697",
   "metadata": {},
   "outputs": [],
   "source": [
    "import pandas as pd\n",
    "\n",
    "# Load the CSV file into a pandas DataFrame\n",
    "df = pd.read_csv(\"/Users/roshanrayudu/Desktop/NLP_sem4/MusicClassficationNLP/data_with_sentiments.csv\")\n",
    "\n",
    "# Assuming you have the predicted genre column named 'predicted_genre'\n",
    "def assign_genre(row):\n",
    "    if row[\"Hip Hop\"] == 1:\n",
    "        return \"Hip Hop\"\n",
    "    elif row[\"Pop\"] == 1:\n",
    "        return \"Pop\"\n",
    "    elif row[\"Rock\"] == 1:\n",
    "        return \"Rock\"\n",
    "    else:\n",
    "        return -1  # Or any default value if none of the columns are set to 1\n",
    "\n",
    "# Apply the function to create the new 'Genre' column\n",
    "df['Genre'] = df.apply(assign_genre, axis=1)\n",
    "\n",
    "# Save the DataFrame back to a new CSV file\n",
    "df.to_csv(\"/Users/roshanrayudu/Desktop/NLP_sem4/MusicClassficationNLP/data_with_sentiments1.csv\", index=False)\n"
   ]
  },
  {
   "cell_type": "code",
   "execution_count": 42,
   "id": "0858f662",
   "metadata": {},
   "outputs": [],
   "source": [
    "resampled_df.to_csv(\"/Users/roshanrayudu/Desktop/NLP_sem4/MusicClassficationNLP/resampled.csv\", index=False)"
   ]
  },
  {
   "cell_type": "code",
   "execution_count": null,
   "id": "d1526252",
   "metadata": {},
   "outputs": [],
   "source": []
  }
 ],
 "metadata": {
  "kernelspec": {
   "display_name": "Python 3 (ipykernel)",
   "language": "python",
   "name": "python3"
  },
  "language_info": {
   "codemirror_mode": {
    "name": "ipython",
    "version": 3
   },
   "file_extension": ".py",
   "mimetype": "text/x-python",
   "name": "python",
   "nbconvert_exporter": "python",
   "pygments_lexer": "ipython3",
   "version": "3.9.12"
  }
 },
 "nbformat": 4,
 "nbformat_minor": 5
}
